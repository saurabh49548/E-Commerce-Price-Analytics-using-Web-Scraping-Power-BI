{
 "cells": [
  {
   "cell_type": "code",
   "execution_count": 2,
   "id": "fd232ff6-012b-4017-b42e-f1bfacec8c63",
   "metadata": {},
   "outputs": [
    {
     "name": "stdout",
     "output_type": "stream",
     "text": [
      "Defaulting to user installation because normal site-packages is not writeable\n",
      "Collecting selenium\n",
      "  Downloading selenium-4.34.0-py3-none-any.whl.metadata (7.5 kB)\n",
      "Collecting urllib3~=2.4.0 (from urllib3[socks]~=2.4.0->selenium)\n",
      "  Downloading urllib3-2.4.0-py3-none-any.whl.metadata (6.5 kB)\n",
      "Collecting trio~=0.30.0 (from selenium)\n",
      "  Downloading trio-0.30.0-py3-none-any.whl.metadata (8.5 kB)\n",
      "Collecting trio-websocket~=0.12.2 (from selenium)\n",
      "  Downloading trio_websocket-0.12.2-py3-none-any.whl.metadata (5.1 kB)\n",
      "Collecting certifi>=2025.4.26 (from selenium)\n",
      "  Downloading certifi-2025.6.15-py3-none-any.whl.metadata (2.4 kB)\n",
      "Collecting typing_extensions~=4.14.0 (from selenium)\n",
      "  Downloading typing_extensions-4.14.0-py3-none-any.whl.metadata (3.0 kB)\n",
      "Requirement already satisfied: websocket-client~=1.8.0 in c:\\programdata\\anaconda3\\lib\\site-packages (from selenium) (1.8.0)\n",
      "Collecting attrs>=23.2.0 (from trio~=0.30.0->selenium)\n",
      "  Downloading attrs-25.3.0-py3-none-any.whl.metadata (10 kB)\n",
      "Requirement already satisfied: sortedcontainers in c:\\programdata\\anaconda3\\lib\\site-packages (from trio~=0.30.0->selenium) (2.4.0)\n",
      "Requirement already satisfied: idna in c:\\programdata\\anaconda3\\lib\\site-packages (from trio~=0.30.0->selenium) (3.7)\n",
      "Collecting outcome (from trio~=0.30.0->selenium)\n",
      "  Downloading outcome-1.3.0.post0-py2.py3-none-any.whl.metadata (2.6 kB)\n",
      "Requirement already satisfied: sniffio>=1.3.0 in c:\\programdata\\anaconda3\\lib\\site-packages (from trio~=0.30.0->selenium) (1.3.0)\n",
      "Requirement already satisfied: cffi>=1.14 in c:\\programdata\\anaconda3\\lib\\site-packages (from trio~=0.30.0->selenium) (1.17.1)\n",
      "Collecting wsproto>=0.14 (from trio-websocket~=0.12.2->selenium)\n",
      "  Downloading wsproto-1.2.0-py3-none-any.whl.metadata (5.6 kB)\n",
      "Requirement already satisfied: pysocks!=1.5.7,<2.0,>=1.5.6 in c:\\programdata\\anaconda3\\lib\\site-packages (from urllib3[socks]~=2.4.0->selenium) (1.7.1)\n",
      "Requirement already satisfied: pycparser in c:\\programdata\\anaconda3\\lib\\site-packages (from cffi>=1.14->trio~=0.30.0->selenium) (2.21)\n",
      "Requirement already satisfied: h11<1,>=0.9.0 in c:\\programdata\\anaconda3\\lib\\site-packages (from wsproto>=0.14->trio-websocket~=0.12.2->selenium) (0.14.0)\n",
      "Downloading selenium-4.34.0-py3-none-any.whl (9.4 MB)\n",
      "   ---------------------------------------- 0.0/9.4 MB ? eta -:--:--\n",
      "   ---- ----------------------------------- 1.0/9.4 MB 6.3 MB/s eta 0:00:02\n",
      "   -------- ------------------------------- 2.1/9.4 MB 6.2 MB/s eta 0:00:02\n",
      "   --------------- ------------------------ 3.7/9.4 MB 6.2 MB/s eta 0:00:01\n",
      "   ---------------------- ----------------- 5.2/9.4 MB 6.2 MB/s eta 0:00:01\n",
      "   --------------------------- ------------ 6.6/9.4 MB 6.2 MB/s eta 0:00:01\n",
      "   --------------------------------- ------ 7.9/9.4 MB 6.2 MB/s eta 0:00:01\n",
      "   ---------------------------------------  9.2/9.4 MB 6.2 MB/s eta 0:00:01\n",
      "   ---------------------------------------- 9.4/9.4 MB 5.9 MB/s eta 0:00:00\n",
      "Downloading certifi-2025.6.15-py3-none-any.whl (157 kB)\n",
      "Downloading trio-0.30.0-py3-none-any.whl (499 kB)\n",
      "Downloading trio_websocket-0.12.2-py3-none-any.whl (21 kB)\n",
      "Downloading typing_extensions-4.14.0-py3-none-any.whl (43 kB)\n",
      "Downloading urllib3-2.4.0-py3-none-any.whl (128 kB)\n",
      "Downloading attrs-25.3.0-py3-none-any.whl (63 kB)\n",
      "Downloading outcome-1.3.0.post0-py2.py3-none-any.whl (10 kB)\n",
      "Downloading wsproto-1.2.0-py3-none-any.whl (24 kB)\n",
      "Installing collected packages: wsproto, urllib3, typing_extensions, certifi, attrs, outcome, trio, trio-websocket, selenium\n",
      "Successfully installed attrs-25.3.0 certifi-2025.6.15 outcome-1.3.0.post0 selenium-4.34.0 trio-0.30.0 trio-websocket-0.12.2 typing_extensions-4.14.0 urllib3-2.4.0 wsproto-1.2.0\n",
      "Note: you may need to restart the kernel to use updated packages.\n"
     ]
    }
   ],
   "source": [
    "pip install selenium"
   ]
  },
  {
   "cell_type": "code",
   "execution_count": 9,
   "id": "904d3010-e45b-4361-96a6-2377a057f4ba",
   "metadata": {},
   "outputs": [
    {
     "name": "stdout",
     "output_type": "stream",
     "text": [
      "Defaulting to user installation because normal site-packages is not writeable\n",
      "Collecting webdriver-manager\n",
      "  Downloading webdriver_manager-4.0.2-py2.py3-none-any.whl.metadata (12 kB)\n",
      "Requirement already satisfied: requests in c:\\programdata\\anaconda3\\lib\\site-packages (from webdriver-manager) (2.32.3)\n",
      "Requirement already satisfied: python-dotenv in c:\\programdata\\anaconda3\\lib\\site-packages (from webdriver-manager) (0.21.0)\n",
      "Requirement already satisfied: packaging in c:\\programdata\\anaconda3\\lib\\site-packages (from webdriver-manager) (24.1)\n",
      "Requirement already satisfied: charset-normalizer<4,>=2 in c:\\programdata\\anaconda3\\lib\\site-packages (from requests->webdriver-manager) (3.3.2)\n",
      "Requirement already satisfied: idna<4,>=2.5 in c:\\programdata\\anaconda3\\lib\\site-packages (from requests->webdriver-manager) (3.7)\n",
      "Requirement already satisfied: urllib3<3,>=1.21.1 in c:\\users\\user\\appdata\\roaming\\python\\python312\\site-packages (from requests->webdriver-manager) (2.4.0)\n",
      "Requirement already satisfied: certifi>=2017.4.17 in c:\\users\\user\\appdata\\roaming\\python\\python312\\site-packages (from requests->webdriver-manager) (2025.6.15)\n",
      "Downloading webdriver_manager-4.0.2-py2.py3-none-any.whl (27 kB)\n",
      "Installing collected packages: webdriver-manager\n",
      "Successfully installed webdriver-manager-4.0.2\n",
      "Note: you may need to restart the kernel to use updated packages.\n"
     ]
    }
   ],
   "source": [
    "pip install webdriver-manager"
   ]
  },
  {
   "cell_type": "code",
   "execution_count": 3,
   "id": "cf8279a2-ff47-47f0-9d9f-7150e763c0b4",
   "metadata": {},
   "outputs": [],
   "source": [
    "from selenium import webdriver"
   ]
  },
  {
   "cell_type": "code",
   "execution_count": 6,
   "id": "5e13ec24-d12e-48fe-90b9-27854a529394",
   "metadata": {},
   "outputs": [],
   "source": [
    "driver = webdriver.Chrome()"
   ]
  },
  {
   "cell_type": "code",
   "execution_count": 10,
   "id": "068012bf-7eeb-42ec-a677-681fbb0e5ac9",
   "metadata": {},
   "outputs": [],
   "source": [
    "from selenium import webdriver\n",
    "from selenium.webdriver.chrome.service import Service\n",
    "from selenium.webdriver.common.by import By\n",
    "from selenium.webdriver.chrome.options import Options\n",
    "from webdriver_manager.chrome import ChromeDriverManager\n",
    "import time\n",
    "import pandas as pd"
   ]
  },
  {
   "cell_type": "code",
   "execution_count": 71,
   "id": "812225e1-6415-4aec-851d-109a3ec05ba6",
   "metadata": {},
   "outputs": [
    {
     "name": "stdout",
     "output_type": "stream",
     "text": [
      "\n",
      "🔄 Scraping Mobiles...\n",
      "✅ Mobiles: 21 products\n",
      "\n",
      "🔄 Scraping Laptops...\n",
      "✅ Laptops: 1 products\n",
      "\n",
      "🔄 Scraping Televisions...\n",
      "✅ Televisions: 6 products\n",
      "\n",
      "🔄 Scraping Refrigerators...\n",
      "✅ Refrigerators: 21 products\n",
      "\n",
      "🔄 Scraping Air Conditioners...\n",
      "✅ Air Conditioners: 21 products\n",
      "\n",
      "🔄 Scraping Washing Machines...\n",
      "✅ Washing Machines: 1 products\n",
      "\n",
      "📁 Final data saved to croma_all_categories.csv\n"
     ]
    }
   ],
   "source": [
    "from selenium import webdriver\n",
    "from selenium.webdriver.common.by import By\n",
    "from selenium.webdriver.chrome.service import Service\n",
    "from webdriver_manager.chrome import ChromeDriverManager\n",
    "import pandas as pd\n",
    "import time\n",
    "\n",
    "# ✅ Setup\n",
    "options = webdriver.ChromeOptions()\n",
    "options.add_argument(\"--start-maximized\")\n",
    "driver = webdriver.Chrome(service=Service(ChromeDriverManager().install()), options=options)\n",
    "\n",
    "# ✅ All categories with correct product links\n",
    "category_links = {\n",
    "    \"Mobiles\": \"https://www.croma.com/mobiles-smartphones/c/1\",\n",
    "    \"Laptops\": \"https://www.croma.com/laptops/laptops/c/1111\",\n",
    "    \"Televisions\": \"https://www.croma.com/televisions/c/63\",\n",
    "    \"Refrigerators\": \"https://www.croma.com/home-appliances/refrigerators/c/5\",\n",
    "    \"Air Conditioners\": \"https://www.croma.com/home-appliances/air-conditioners/c/3\",\n",
    "    \"Washing Machines\": \"https://www.croma.com/home-appliances/washing-machines/c/4\"\n",
    "}\n",
    "\n",
    "all_data = []\n",
    "\n",
    "for category, url in category_links.items():\n",
    "    print(f\"\\n🔄 Scraping {category}...\")\n",
    "    driver.get(url)\n",
    "    time.sleep(5)\n",
    "\n",
    "    # Scroll down to load content\n",
    "    driver.execute_script(\"window.scrollTo(0, document.body.scrollHeight);\")\n",
    "    time.sleep(4)\n",
    "\n",
    "    products = driver.find_elements(By.CSS_SELECTOR, \"li.product-item\")\n",
    "    print(f\"✅ {category}: {len(products)} products\")\n",
    "\n",
    "    for p in products:\n",
    "        try:\n",
    "            title = p.find_element(By.CSS_SELECTOR, \"h3.product-title\").text\n",
    "        except:\n",
    "            title = \"N/A\"\n",
    "\n",
    "        # ✅ Try multiple selectors for price\n",
    "        try:\n",
    "            price = p.find_element(By.CSS_SELECTOR, \"span.new-price\").text\n",
    "        except:\n",
    "            try:\n",
    "                price = p.find_element(By.CSS_SELECTOR, \"span.amount\").text\n",
    "            except:\n",
    "                price = \"N/A\"\n",
    "\n",
    "        try:\n",
    "            link = p.find_element(By.TAG_NAME, \"a\").get_attribute(\"href\")\n",
    "        except:\n",
    "            link = \"N/A\"\n",
    "\n",
    "        all_data.append({\n",
    "            \"Category\": category,\n",
    "            \"Title\": title,\n",
    "            \"Price\": price,\n",
    "            \"Link\": link\n",
    "        })\n",
    "\n",
    "# ✅ Close browser\n",
    "driver.quit()\n",
    "\n",
    "# ✅ Save to CSV\n",
    "df = pd.DataFrame(all_data)\n",
    "df.to_csv(\"croma_all_categories.csv\", index=False)\n",
    "print(\"\\n📁 Final data saved to croma_all_categories.csv\")\n"
   ]
  },
  {
   "cell_type": "markdown",
   "id": "af3a625c-e50a-4998-9731-e80c5836d827",
   "metadata": {},
   "source": [
    "#### Price Cleaning (remove ₹ and convert to number)"
   ]
  },
  {
   "cell_type": "code",
   "execution_count": 36,
   "id": "2e41344c-7645-4bc2-9a92-94944233e21c",
   "metadata": {},
   "outputs": [
    {
     "data": {
      "text/plain": [
       "Category    0\n",
       "Title       0\n",
       "Price       0\n",
       "Link        0\n",
       "dtype: int64"
      ]
     },
     "execution_count": 36,
     "metadata": {},
     "output_type": "execute_result"
    }
   ],
   "source": [
    "df.isnull().sum()"
   ]
  },
  {
   "cell_type": "code",
   "execution_count": 80,
   "id": "73a0e12f-9eb6-48c4-a069-fadef249ec31",
   "metadata": {},
   "outputs": [
    {
     "name": "stdout",
     "output_type": "stream",
     "text": [
      "<class 'pandas.core.frame.DataFrame'>\n",
      "Index: 68 entries, 0 to 69\n",
      "Data columns (total 4 columns):\n",
      " #   Column    Non-Null Count  Dtype \n",
      "---  ------    --------------  ----- \n",
      " 0   Category  68 non-null     object\n",
      " 1   Title     68 non-null     object\n",
      " 2   Price     68 non-null     object\n",
      " 3   Link      68 non-null     object\n",
      "dtypes: object(4)\n",
      "memory usage: 2.7+ KB\n"
     ]
    }
   ],
   "source": [
    "df.info()"
   ]
  },
  {
   "cell_type": "code",
   "execution_count": 79,
   "id": "60b41f59-e998-459d-a1d6-be0167033de1",
   "metadata": {},
   "outputs": [
    {
     "data": {
      "text/html": [
       "<div>\n",
       "<style scoped>\n",
       "    .dataframe tbody tr th:only-of-type {\n",
       "        vertical-align: middle;\n",
       "    }\n",
       "\n",
       "    .dataframe tbody tr th {\n",
       "        vertical-align: top;\n",
       "    }\n",
       "\n",
       "    .dataframe thead th {\n",
       "        text-align: right;\n",
       "    }\n",
       "</style>\n",
       "<table border=\"1\" class=\"dataframe\">\n",
       "  <thead>\n",
       "    <tr style=\"text-align: right;\">\n",
       "      <th></th>\n",
       "      <th>Category</th>\n",
       "      <th>Title</th>\n",
       "      <th>Price</th>\n",
       "      <th>Link</th>\n",
       "    </tr>\n",
       "  </thead>\n",
       "  <tbody>\n",
       "    <tr>\n",
       "      <th>0</th>\n",
       "      <td>Mobiles</td>\n",
       "      <td>vivo Y29 5G (6GB RAM, 128GB, Diamond Black)</td>\n",
       "      <td>15499</td>\n",
       "      <td>https://www.croma.com/vivo-y29-5g-6gb-ram-128g...</td>\n",
       "    </tr>\n",
       "    <tr>\n",
       "      <th>1</th>\n",
       "      <td>Mobiles</td>\n",
       "      <td>vivo Y29 5G (4GB RAM, 128GB, Glacier Blue)</td>\n",
       "      <td>13999</td>\n",
       "      <td>https://www.croma.com/vivo-y29-5g-4gb-ram-128g...</td>\n",
       "    </tr>\n",
       "  </tbody>\n",
       "</table>\n",
       "</div>"
      ],
      "text/plain": [
       "  Category                                        Title  Price  \\\n",
       "0  Mobiles  vivo Y29 5G (6GB RAM, 128GB, Diamond Black)  15499   \n",
       "1  Mobiles   vivo Y29 5G (4GB RAM, 128GB, Glacier Blue)  13999   \n",
       "\n",
       "                                                Link  \n",
       "0  https://www.croma.com/vivo-y29-5g-6gb-ram-128g...  \n",
       "1  https://www.croma.com/vivo-y29-5g-4gb-ram-128g...  "
      ]
     },
     "execution_count": 79,
     "metadata": {},
     "output_type": "execute_result"
    }
   ],
   "source": [
    "df.head(2)"
   ]
  },
  {
   "cell_type": "code",
   "execution_count": 73,
   "id": "3d69d0bf-e4bc-4b13-a51f-1d73b3001774",
   "metadata": {},
   "outputs": [
    {
     "name": "stdout",
     "output_type": "stream",
     "text": [
      " Cleaned data saved to croma_cleaned_products.csv\n"
     ]
    }
   ],
   "source": [
    "df = df[(df['Title'] != 'N/A') & (df['Price'] != 'N/A') & (df['Link'] != 'N/A')]\n",
    "df.to_csv('croma_cleaned_products.csv' , index = False)\n",
    "print(\" Cleaned data saved to croma_cleaned_products.csv\")"
   ]
  },
  {
   "cell_type": "code",
   "execution_count": 99,
   "id": "6afaacec-3dab-4f6d-8746-3564169b1cd0",
   "metadata": {},
   "outputs": [
    {
     "name": "stdout",
     "output_type": "stream",
     "text": [
      "C:\\Users\\User\\Desktop\\Rushikesh Python\n"
     ]
    }
   ],
   "source": [
    "import os \n",
    "print(os.getcwd())"
   ]
  },
  {
   "cell_type": "code",
   "execution_count": 84,
   "id": "39fb166f-bbbb-49ee-bbf9-b33aa892adbf",
   "metadata": {},
   "outputs": [
    {
     "name": "stdout",
     "output_type": "stream",
     "text": [
      "<class 'pandas.core.frame.DataFrame'>\n",
      "Index: 68 entries, 0 to 69\n",
      "Data columns (total 4 columns):\n",
      " #   Column    Non-Null Count  Dtype \n",
      "---  ------    --------------  ----- \n",
      " 0   Category  68 non-null     object\n",
      " 1   Title     68 non-null     object\n",
      " 2   Price     68 non-null     int32 \n",
      " 3   Link      68 non-null     object\n",
      "dtypes: int32(1), object(3)\n",
      "memory usage: 2.4+ KB\n"
     ]
    }
   ],
   "source": [
    "df.info()"
   ]
  },
  {
   "cell_type": "code",
   "execution_count": 75,
   "id": "59f7569b-018d-403e-9b61-fa0aed86d3b4",
   "metadata": {},
   "outputs": [
    {
     "data": {
      "text/plain": [
       "Category    0\n",
       "Title       0\n",
       "Price       0\n",
       "Link        0\n",
       "dtype: int64"
      ]
     },
     "execution_count": 75,
     "metadata": {},
     "output_type": "execute_result"
    }
   ],
   "source": [
    "df.isnull().sum()"
   ]
  },
  {
   "cell_type": "code",
   "execution_count": 78,
   "id": "c262f4e7-8dba-4876-9e52-2a31e3f50231",
   "metadata": {},
   "outputs": [],
   "source": [
    "#Remove ₹ and commas (as string)\n",
    "\n",
    "df['Price'] = df['Price'].str.replace('₹', '', regex=False)\n",
    "df['Price'] = df['Price'].str.replace(',', '', regex=False)"
   ]
  },
  {
   "cell_type": "code",
   "execution_count": 85,
   "id": "f536baa6-d5a0-4425-91a9-12b50cabbd70",
   "metadata": {},
   "outputs": [
    {
     "data": {
      "text/html": [
       "<div>\n",
       "<style scoped>\n",
       "    .dataframe tbody tr th:only-of-type {\n",
       "        vertical-align: middle;\n",
       "    }\n",
       "\n",
       "    .dataframe tbody tr th {\n",
       "        vertical-align: top;\n",
       "    }\n",
       "\n",
       "    .dataframe thead th {\n",
       "        text-align: right;\n",
       "    }\n",
       "</style>\n",
       "<table border=\"1\" class=\"dataframe\">\n",
       "  <thead>\n",
       "    <tr style=\"text-align: right;\">\n",
       "      <th></th>\n",
       "      <th>Category</th>\n",
       "      <th>Title</th>\n",
       "      <th>Price</th>\n",
       "      <th>Link</th>\n",
       "    </tr>\n",
       "  </thead>\n",
       "  <tbody>\n",
       "    <tr>\n",
       "      <th>0</th>\n",
       "      <td>Mobiles</td>\n",
       "      <td>vivo Y29 5G (6GB RAM, 128GB, Diamond Black)</td>\n",
       "      <td>15499</td>\n",
       "      <td>https://www.croma.com/vivo-y29-5g-6gb-ram-128g...</td>\n",
       "    </tr>\n",
       "  </tbody>\n",
       "</table>\n",
       "</div>"
      ],
      "text/plain": [
       "  Category                                        Title  Price  \\\n",
       "0  Mobiles  vivo Y29 5G (6GB RAM, 128GB, Diamond Black)  15499   \n",
       "\n",
       "                                                Link  \n",
       "0  https://www.croma.com/vivo-y29-5g-6gb-ram-128g...  "
      ]
     },
     "execution_count": 85,
     "metadata": {},
     "output_type": "execute_result"
    }
   ],
   "source": [
    "df.head(1)"
   ]
  },
  {
   "cell_type": "code",
   "execution_count": 83,
   "id": "a60d7dc2-6b7d-4fa5-84c6-6f99a280f572",
   "metadata": {},
   "outputs": [],
   "source": [
    "# string to integer\n",
    "df['Price'] = df['Price'].astype(int)"
   ]
  },
  {
   "cell_type": "code",
   "execution_count": 86,
   "id": "11519e75-a3cf-47f3-8043-683781841404",
   "metadata": {},
   "outputs": [
    {
     "data": {
      "text/plain": [
       "Category\n",
       "Air Conditioners    82777.952381\n",
       "Mobiles             30004.666667\n",
       "Refrigerators       16267.904762\n",
       "Televisions         39991.800000\n",
       "Name: Price, dtype: float64"
      ]
     },
     "execution_count": 86,
     "metadata": {},
     "output_type": "execute_result"
    }
   ],
   "source": [
    "# Average price by category\n",
    "df.groupby('Category')['Price'].mean()"
   ]
  },
  {
   "cell_type": "code",
   "execution_count": 88,
   "id": "d50ad1c8-d07c-4dd2-9538-ff9083fda841",
   "metadata": {},
   "outputs": [
    {
     "data": {
      "text/plain": [
       "Category\n",
       "Mobiles             21\n",
       "Refrigerators       21\n",
       "Air Conditioners    21\n",
       "Televisions          5\n",
       "Name: count, dtype: int64"
      ]
     },
     "execution_count": 88,
     "metadata": {},
     "output_type": "execute_result"
    }
   ],
   "source": [
    "# Count of products per category\n",
    "df['Category'].value_counts()"
   ]
  },
  {
   "cell_type": "code",
   "execution_count": 90,
   "id": "ce894f2f-b362-4088-a488-a7574358c6b0",
   "metadata": {},
   "outputs": [
    {
     "data": {
      "text/html": [
       "<div>\n",
       "<style scoped>\n",
       "    .dataframe tbody tr th:only-of-type {\n",
       "        vertical-align: middle;\n",
       "    }\n",
       "\n",
       "    .dataframe tbody tr th {\n",
       "        vertical-align: top;\n",
       "    }\n",
       "\n",
       "    .dataframe thead th {\n",
       "        text-align: right;\n",
       "    }\n",
       "</style>\n",
       "<table border=\"1\" class=\"dataframe\">\n",
       "  <thead>\n",
       "    <tr style=\"text-align: right;\">\n",
       "      <th></th>\n",
       "      <th>Category</th>\n",
       "      <th>Title</th>\n",
       "      <th>Price</th>\n",
       "      <th>Link</th>\n",
       "    </tr>\n",
       "  </thead>\n",
       "  <tbody>\n",
       "    <tr>\n",
       "      <th>50</th>\n",
       "      <td>Air Conditioners</td>\n",
       "      <td>Microsoft Surface Pro 11th Edition Wi-Fi Windo...</td>\n",
       "      <td>232990</td>\n",
       "      <td>https://www.croma.com/microsoft-surface-pro-11...</td>\n",
       "    </tr>\n",
       "    <tr>\n",
       "      <th>15</th>\n",
       "      <td>Mobiles</td>\n",
       "      <td>Apple iPhone 16 (128GB, Teal)</td>\n",
       "      <td>73500</td>\n",
       "      <td>https://www.croma.com/apple-iphone-16-128gb-te...</td>\n",
       "    </tr>\n",
       "    <tr>\n",
       "      <th>36</th>\n",
       "      <td>Refrigerators</td>\n",
       "      <td>LG 6 in 1 Convertible 1.5 Ton 5 Star Dual Inve...</td>\n",
       "      <td>44990</td>\n",
       "      <td>https://www.croma.com/lg-6-in-1-convertible-1-...</td>\n",
       "    </tr>\n",
       "    <tr>\n",
       "      <th>22</th>\n",
       "      <td>Televisions</td>\n",
       "      <td>SONY Playstation 5 Slim 1TB SSD (CFI-2008A01X,...</td>\n",
       "      <td>54990</td>\n",
       "      <td>https://www.croma.com/sony-playstation-5-slim-...</td>\n",
       "    </tr>\n",
       "  </tbody>\n",
       "</table>\n",
       "</div>"
      ],
      "text/plain": [
       "            Category                                              Title  \\\n",
       "50  Air Conditioners  Microsoft Surface Pro 11th Edition Wi-Fi Windo...   \n",
       "15           Mobiles                      Apple iPhone 16 (128GB, Teal)   \n",
       "36     Refrigerators  LG 6 in 1 Convertible 1.5 Ton 5 Star Dual Inve...   \n",
       "22       Televisions  SONY Playstation 5 Slim 1TB SSD (CFI-2008A01X,...   \n",
       "\n",
       "     Price                                               Link  \n",
       "50  232990  https://www.croma.com/microsoft-surface-pro-11...  \n",
       "15   73500  https://www.croma.com/apple-iphone-16-128gb-te...  \n",
       "36   44990  https://www.croma.com/lg-6-in-1-convertible-1-...  \n",
       "22   54990  https://www.croma.com/sony-playstation-5-slim-...  "
      ]
     },
     "execution_count": 90,
     "metadata": {},
     "output_type": "execute_result"
    }
   ],
   "source": [
    "# High price product per category\n",
    "df.loc[df.groupby('Category')['Price'].idxmax()]"
   ]
  },
  {
   "cell_type": "markdown",
   "id": "88a2478e-b9c0-4d6f-bb39-d3a12a0dd010",
   "metadata": {},
   "source": [
    "### Visualize with Matplotlib/Seaborn"
   ]
  },
  {
   "cell_type": "code",
   "execution_count": 91,
   "id": "a9aad83a-7256-4c8f-8990-d0d5e7bf13e4",
   "metadata": {},
   "outputs": [],
   "source": [
    "import matplotlib.pyplot as plt\n",
    "import seaborn as sns"
   ]
  },
  {
   "cell_type": "code",
   "execution_count": 94,
   "id": "3d508225-70e6-4b51-b26d-b5126c1901db",
   "metadata": {},
   "outputs": [
    {
     "data": {
      "image/png": "[encoded data removed]",
      "text/plain": [
       "<Figure size 1000x600 with 1 Axes>"
      ]
     },
     "metadata": {},
     "output_type": "display_data"
    }
   ],
   "source": [
    "plt.figure(figsize=(10,6))\n",
    "sns.barplot(data=df, x='Category',y='Price',estimator='mean')\n",
    "plt.title('Average price by catogory')\n",
    "plt.xticks(rotation=45)\n",
    "plt.tight_layout()\n",
    "plt.show()"
   ]
  },
  {
   "cell_type": "code",
   "execution_count": null,
   "id": "c2a4c80b-9950-43eb-82ec-e9dba7e686b0",
   "metadata": {},
   "outputs": [],
   "source": []
  },
  {
   "cell_type": "code",
   "execution_count": null,
   "id": "9ac61939-dd12-4460-b0e5-b9b7f0308af7",
   "metadata": {},
   "outputs": [],
   "source": []
  }
 ],
 "metadata": {
  "kernelspec": {
   "display_name": "Python 3 (ipykernel)",
   "language": "python",
   "name": "python3"
  },
  "language_info": {
   "codemirror_mode": {
    "name": "ipython",
    "version": 3
   },
   "file_extension": ".py",
   "mimetype": "text/x-python",
   "name": "python",
   "nbconvert_exporter": "python",
   "pygments_lexer": "ipython3",
   "version": "3.12.7"
  }
 },
 "nbformat": 4,
 "nbformat_minor": 5
}
